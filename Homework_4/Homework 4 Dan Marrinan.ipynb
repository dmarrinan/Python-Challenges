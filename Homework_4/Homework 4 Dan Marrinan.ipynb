{
 "cells": [
  {
   "cell_type": "markdown",
   "metadata": {},
   "source": [
    "## Observations in Data for File 1"
   ]
  },
  {
   "cell_type": "markdown",
   "metadata": {},
   "source": [
    "1) The average item's purchase price was highest for other/nongender users. The average item's purchase price for men was greater than that for women."
   ]
  },
  {
   "cell_type": "markdown",
   "metadata": {},
   "source": [
    "2) The largest portion of users were between the ages of 20-24. Over 40% of users fell in this age range."
   ]
  },
  {
   "cell_type": "markdown",
   "metadata": {},
   "source": [
    "3) The most profitable items were bought fewer times for a greater cost than the most popular items."
   ]
  },
  {
   "cell_type": "code",
   "execution_count": 1,
   "metadata": {
    "collapsed": true
   },
   "outputs": [],
   "source": [
    "#import relevant libraries\n",
    "import pandas as pd\n",
    "import json"
   ]
  },
  {
   "cell_type": "code",
   "execution_count": 2,
   "metadata": {
    "collapsed": true
   },
   "outputs": [],
   "source": [
    "#set names of files to read in \n",
    "file_name = \"purchase_data.json\""
   ]
  },
  {
   "cell_type": "code",
   "execution_count": 3,
   "metadata": {},
   "outputs": [
    {
     "data": {
      "text/html": [
       "<div>\n",
       "<style>\n",
       "    .dataframe thead tr:only-child th {\n",
       "        text-align: right;\n",
       "    }\n",
       "\n",
       "    .dataframe thead th {\n",
       "        text-align: left;\n",
       "    }\n",
       "\n",
       "    .dataframe tbody tr th {\n",
       "        vertical-align: top;\n",
       "    }\n",
       "</style>\n",
       "<table border=\"1\" class=\"dataframe\">\n",
       "  <thead>\n",
       "    <tr style=\"text-align: right;\">\n",
       "      <th></th>\n",
       "      <th>Age</th>\n",
       "      <th>Gender</th>\n",
       "      <th>Item ID</th>\n",
       "      <th>Item Name</th>\n",
       "      <th>Price</th>\n",
       "      <th>SN</th>\n",
       "    </tr>\n",
       "  </thead>\n",
       "  <tbody>\n",
       "    <tr>\n",
       "      <th>0</th>\n",
       "      <td>38</td>\n",
       "      <td>Male</td>\n",
       "      <td>165</td>\n",
       "      <td>Bone Crushing Silver Skewer</td>\n",
       "      <td>3.37</td>\n",
       "      <td>Aelalis34</td>\n",
       "    </tr>\n",
       "    <tr>\n",
       "      <th>1</th>\n",
       "      <td>21</td>\n",
       "      <td>Male</td>\n",
       "      <td>119</td>\n",
       "      <td>Stormbringer, Dark Blade of Ending Misery</td>\n",
       "      <td>2.32</td>\n",
       "      <td>Eolo46</td>\n",
       "    </tr>\n",
       "    <tr>\n",
       "      <th>2</th>\n",
       "      <td>34</td>\n",
       "      <td>Male</td>\n",
       "      <td>174</td>\n",
       "      <td>Primitive Blade</td>\n",
       "      <td>2.46</td>\n",
       "      <td>Assastnya25</td>\n",
       "    </tr>\n",
       "    <tr>\n",
       "      <th>3</th>\n",
       "      <td>21</td>\n",
       "      <td>Male</td>\n",
       "      <td>92</td>\n",
       "      <td>Final Critic</td>\n",
       "      <td>1.36</td>\n",
       "      <td>Pheusrical25</td>\n",
       "    </tr>\n",
       "    <tr>\n",
       "      <th>4</th>\n",
       "      <td>23</td>\n",
       "      <td>Male</td>\n",
       "      <td>63</td>\n",
       "      <td>Stormfury Mace</td>\n",
       "      <td>1.27</td>\n",
       "      <td>Aela59</td>\n",
       "    </tr>\n",
       "  </tbody>\n",
       "</table>\n",
       "</div>"
      ],
      "text/plain": [
       "   Age Gender  Item ID                                  Item Name  Price  \\\n",
       "0   38   Male      165                Bone Crushing Silver Skewer   3.37   \n",
       "1   21   Male      119  Stormbringer, Dark Blade of Ending Misery   2.32   \n",
       "2   34   Male      174                            Primitive Blade   2.46   \n",
       "3   21   Male       92                               Final Critic   1.36   \n",
       "4   23   Male       63                             Stormfury Mace   1.27   \n",
       "\n",
       "             SN  \n",
       "0     Aelalis34  \n",
       "1        Eolo46  \n",
       "2   Assastnya25  \n",
       "3  Pheusrical25  \n",
       "4        Aela59  "
      ]
     },
     "execution_count": 3,
     "metadata": {},
     "output_type": "execute_result"
    }
   ],
   "source": [
    "raw_df = pd.read_json(file_name, orient=\"records\")\n",
    "raw_df.head()"
   ]
  },
  {
   "cell_type": "markdown",
   "metadata": {},
   "source": [
    "## Player Count"
   ]
  },
  {
   "cell_type": "code",
   "execution_count": 4,
   "metadata": {},
   "outputs": [
    {
     "data": {
      "text/plain": [
       "573"
      ]
     },
     "execution_count": 4,
     "metadata": {},
     "output_type": "execute_result"
    }
   ],
   "source": [
    "#calculate number of players and print results\n",
    "num_users_df = pd.DataFrame()\n",
    "num_users = raw_df[\"SN\"].nunique()\n",
    "num_users_df[\"Total Players\"] = num_users\n",
    "num_users"
   ]
  },
  {
   "cell_type": "markdown",
   "metadata": {},
   "source": [
    "## Purchasing Analysis (Total)"
   ]
  },
  {
   "cell_type": "code",
   "execution_count": 5,
   "metadata": {
    "collapsed": true
   },
   "outputs": [],
   "source": [
    "#set up data frame to store purchasing analysis\n",
    "purchasing_analysis = pd.DataFrame()"
   ]
  },
  {
   "cell_type": "code",
   "execution_count": 6,
   "metadata": {
    "collapsed": true
   },
   "outputs": [],
   "source": [
    "#find number of unique items\n",
    "num_unique_items = raw_df[\"Item Name\"].nunique()\n",
    "purchasing_analysis[\"Number of Unique Items\"] = [num_unique_items]"
   ]
  },
  {
   "cell_type": "code",
   "execution_count": 7,
   "metadata": {
    "collapsed": true
   },
   "outputs": [],
   "source": [
    "#find average price of items\n",
    "average_price = raw_df[\"Price\"].mean()\n",
    "purchasing_analysis[\"Average Price\"] = [average_price] "
   ]
  },
  {
   "cell_type": "code",
   "execution_count": 8,
   "metadata": {
    "collapsed": true
   },
   "outputs": [],
   "source": [
    "#find the total number of purchases\n",
    "num_purchases = len(raw_df.index)\n",
    "purchasing_analysis[\"Number of Purchases\"] = [num_purchases]"
   ]
  },
  {
   "cell_type": "code",
   "execution_count": 9,
   "metadata": {
    "collapsed": true
   },
   "outputs": [],
   "source": [
    "#find the total revenue\n",
    "total_revenue = raw_df[\"Price\"].sum()\n",
    "purchasing_analysis[\"Total Revenue\"] = [total_revenue] "
   ]
  },
  {
   "cell_type": "code",
   "execution_count": 10,
   "metadata": {},
   "outputs": [
    {
     "data": {
      "text/html": [
       "<div>\n",
       "<style>\n",
       "    .dataframe thead tr:only-child th {\n",
       "        text-align: right;\n",
       "    }\n",
       "\n",
       "    .dataframe thead th {\n",
       "        text-align: left;\n",
       "    }\n",
       "\n",
       "    .dataframe tbody tr th {\n",
       "        vertical-align: top;\n",
       "    }\n",
       "</style>\n",
       "<table border=\"1\" class=\"dataframe\">\n",
       "  <thead>\n",
       "    <tr style=\"text-align: right;\">\n",
       "      <th></th>\n",
       "      <th>Number of Unique Items</th>\n",
       "      <th>Average Price</th>\n",
       "      <th>Number of Purchases</th>\n",
       "      <th>Total Revenue</th>\n",
       "    </tr>\n",
       "  </thead>\n",
       "  <tbody>\n",
       "    <tr>\n",
       "      <th>0</th>\n",
       "      <td>179</td>\n",
       "      <td>2.931192</td>\n",
       "      <td>780</td>\n",
       "      <td>2286.33</td>\n",
       "    </tr>\n",
       "  </tbody>\n",
       "</table>\n",
       "</div>"
      ],
      "text/plain": [
       "   Number of Unique Items  Average Price  Number of Purchases  Total Revenue\n",
       "0                     179       2.931192                  780        2286.33"
      ]
     },
     "execution_count": 10,
     "metadata": {},
     "output_type": "execute_result"
    }
   ],
   "source": [
    "#display results\n",
    "purchasing_analysis"
   ]
  },
  {
   "cell_type": "markdown",
   "metadata": {},
   "source": [
    "## Gender Demographics"
   ]
  },
  {
   "cell_type": "code",
   "execution_count": 11,
   "metadata": {
    "collapsed": true
   },
   "outputs": [],
   "source": [
    "#create gender demographics dataframe\n",
    "gender_demographics = pd.DataFrame(columns = [\"Percentage of Players\",\"Total Count\"],index = [\"Male\",\"Female\",\"Other/Non-Disclosed\"])"
   ]
  },
  {
   "cell_type": "code",
   "execution_count": 12,
   "metadata": {
    "collapsed": true
   },
   "outputs": [],
   "source": [
    "#filter by gender to get df full of male users\n",
    "male_demographics = pd.DataFrame()\n",
    "male_df = raw_df.loc[raw_df[\"Gender\"]==\"Male\"]"
   ]
  },
  {
   "cell_type": "code",
   "execution_count": 13,
   "metadata": {
    "collapsed": true
   },
   "outputs": [],
   "source": [
    "#filter by gender to get df full of female users\n",
    "female_df = raw_df.loc[raw_df[\"Gender\"]==\"Female\"]"
   ]
  },
  {
   "cell_type": "code",
   "execution_count": 14,
   "metadata": {
    "collapsed": true
   },
   "outputs": [],
   "source": [
    "#get other/Non-Disclosed users\n",
    "other_gender_filter = (raw_df[\"Gender\"]!=\"Male\")&(raw_df[\"Gender\"]!=\"Female\")\n",
    "other_gender_df = raw_df.loc[other_gender_filter]"
   ]
  },
  {
   "cell_type": "code",
   "execution_count": 15,
   "metadata": {},
   "outputs": [
    {
     "data": {
      "text/plain": [
       "465"
      ]
     },
     "execution_count": 15,
     "metadata": {},
     "output_type": "execute_result"
    }
   ],
   "source": [
    "#calculate number of males\n",
    "num_males = male_df[\"SN\"].nunique()\n",
    "gender_demographics.loc[\"Male\"][\"Total Count\"] = num_males\n",
    "num_males"
   ]
  },
  {
   "cell_type": "code",
   "execution_count": 16,
   "metadata": {
    "collapsed": true
   },
   "outputs": [],
   "source": [
    "#calculate number of females\n",
    "num_females = female_df[\"SN\"].nunique()\n",
    "gender_demographics.loc[\"Female\"][\"Total Count\"] = num_females"
   ]
  },
  {
   "cell_type": "code",
   "execution_count": 17,
   "metadata": {
    "collapsed": true
   },
   "outputs": [],
   "source": [
    "#calculate number of users that are of other/non-disclosed gender\n",
    "num_other_gender = other_gender_df[\"SN\"].nunique()\n",
    "gender_demographics.loc[\"Other/Non-Disclosed\"][\"Total Count\"] = num_other_gender"
   ]
  },
  {
   "cell_type": "code",
   "execution_count": 18,
   "metadata": {},
   "outputs": [
    {
     "data": {
      "text/plain": [
       "81.15183246073299"
      ]
     },
     "execution_count": 18,
     "metadata": {},
     "output_type": "execute_result"
    }
   ],
   "source": [
    "#calculate percentage of users that are male\n",
    "percent_male = num_males/num_users*100\n",
    "gender_demographics.loc[\"Male\"][\"Percentage of Players\"] = percent_male\n",
    "percent_male"
   ]
  },
  {
   "cell_type": "code",
   "execution_count": 19,
   "metadata": {
    "collapsed": true
   },
   "outputs": [],
   "source": [
    "#calculate percentage of users that are female\n",
    "percent_female = num_females/num_users*100\n",
    "gender_demographics.loc[\"Female\"][\"Percentage of Players\"] = percent_female"
   ]
  },
  {
   "cell_type": "code",
   "execution_count": 20,
   "metadata": {
    "collapsed": true
   },
   "outputs": [],
   "source": [
    "#calculate percntage of users that are of other/non-disclosed gender\n",
    "percent_other_gender = num_other_gender/num_users*100\n",
    "gender_demographics.loc[\"Other/Non-Disclosed\"][\"Percentage of Players\"] = percent_other_gender"
   ]
  },
  {
   "cell_type": "code",
   "execution_count": 21,
   "metadata": {},
   "outputs": [
    {
     "data": {
      "text/html": [
       "<div>\n",
       "<style>\n",
       "    .dataframe thead tr:only-child th {\n",
       "        text-align: right;\n",
       "    }\n",
       "\n",
       "    .dataframe thead th {\n",
       "        text-align: left;\n",
       "    }\n",
       "\n",
       "    .dataframe tbody tr th {\n",
       "        vertical-align: top;\n",
       "    }\n",
       "</style>\n",
       "<table border=\"1\" class=\"dataframe\">\n",
       "  <thead>\n",
       "    <tr style=\"text-align: right;\">\n",
       "      <th></th>\n",
       "      <th>Percentage of Players</th>\n",
       "      <th>Total Count</th>\n",
       "    </tr>\n",
       "  </thead>\n",
       "  <tbody>\n",
       "    <tr>\n",
       "      <th>Male</th>\n",
       "      <td>81.1518</td>\n",
       "      <td>465</td>\n",
       "    </tr>\n",
       "    <tr>\n",
       "      <th>Female</th>\n",
       "      <td>17.452</td>\n",
       "      <td>100</td>\n",
       "    </tr>\n",
       "    <tr>\n",
       "      <th>Other/Non-Disclosed</th>\n",
       "      <td>1.39616</td>\n",
       "      <td>8</td>\n",
       "    </tr>\n",
       "  </tbody>\n",
       "</table>\n",
       "</div>"
      ],
      "text/plain": [
       "                    Percentage of Players Total Count\n",
       "Male                              81.1518         465\n",
       "Female                             17.452         100\n",
       "Other/Non-Disclosed               1.39616           8"
      ]
     },
     "execution_count": 21,
     "metadata": {},
     "output_type": "execute_result"
    }
   ],
   "source": [
    "#display gender demographics\n",
    "gender_demographics"
   ]
  },
  {
   "cell_type": "markdown",
   "metadata": {},
   "source": [
    "## Purchasing Analysis (Gender)"
   ]
  },
  {
   "cell_type": "code",
   "execution_count": 22,
   "metadata": {},
   "outputs": [
    {
     "data": {
      "text/plain": [
       "Index(['Male', 'Female', 'Other/Non-Disclosed'], dtype='object')"
      ]
     },
     "execution_count": 22,
     "metadata": {},
     "output_type": "execute_result"
    }
   ],
   "source": [
    "#create purchasing analysis gender dataframe\n",
    "purchase_gender_index = [\"Male\",\"Female\",\"Other/Non-Disclosed\"]\n",
    "purchase_gender_columns = [\"Purchase Count\",\"Average Purchase Price\",\"Total Purchase Value\", \"Normalized Totals\"]\n",
    "purchasing_analysis_gender = pd.DataFrame(index=purchase_gender_index,columns = purchase_gender_columns)\n",
    "purchasing_analysis_gender.index"
   ]
  },
  {
   "cell_type": "code",
   "execution_count": 23,
   "metadata": {
    "collapsed": true
   },
   "outputs": [],
   "source": [
    "#calculate number of purchases by male users\n",
    "num_purchases_male = len(male_df.index)\n",
    "purchasing_analysis_gender.loc[\"Male\"][\"Purchase Count\"] = num_purchases_male"
   ]
  },
  {
   "cell_type": "code",
   "execution_count": 24,
   "metadata": {
    "collapsed": true
   },
   "outputs": [],
   "source": [
    "#calculate number of purchases by female users\n",
    "num_purchases_female = len(female_df.index)\n",
    "purchasing_analysis_gender.loc[\"Female\"][\"Purchase Count\"] =num_purchases_female"
   ]
  },
  {
   "cell_type": "code",
   "execution_count": 25,
   "metadata": {
    "collapsed": true
   },
   "outputs": [],
   "source": [
    "#calculate number of purchases by users of other/non-disclosed gender\n",
    "num_purchases_other_gender = len(other_gender_df.index)\n",
    "purchasing_analysis_gender.loc[\"Other/Non-Disclosed\"][\"Purchase Count\"] =num_purchases_other_gender"
   ]
  },
  {
   "cell_type": "code",
   "execution_count": 26,
   "metadata": {
    "collapsed": true
   },
   "outputs": [],
   "source": [
    "#find average purchase price for items by male users\n",
    "average_price_male = male_df[\"Price\"].mean()\n",
    "purchasing_analysis_gender.loc[\"Male\"][\"Average Purchase Price\"] = average_price_male"
   ]
  },
  {
   "cell_type": "code",
   "execution_count": 27,
   "metadata": {
    "collapsed": true
   },
   "outputs": [],
   "source": [
    "#find average purchase price for items by female users\n",
    "average_price_female = female_df[\"Price\"].mean()\n",
    "purchasing_analysis_gender.loc[\"Female\"][\"Average Purchase Price\"] = average_price_female"
   ]
  },
  {
   "cell_type": "code",
   "execution_count": 28,
   "metadata": {
    "collapsed": true
   },
   "outputs": [],
   "source": [
    "#find average purchase price for items by users with other/nonspecified genders\n",
    "average_price_other_gender = other_gender_df[\"Price\"].mean()\n",
    "purchasing_analysis_gender.loc[\"Other/Non-Disclosed\"][\"Average Purchase Price\"] = average_price_other_gender"
   ]
  },
  {
   "cell_type": "code",
   "execution_count": 29,
   "metadata": {
    "collapsed": true
   },
   "outputs": [],
   "source": [
    "#find total purchase value for male users\n",
    "total_value_male = male_df[\"Price\"].sum()\n",
    "purchasing_analysis_gender.loc[\"Male\"][\"Total Purchase Value\"] = total_value_male"
   ]
  },
  {
   "cell_type": "code",
   "execution_count": 30,
   "metadata": {
    "collapsed": true
   },
   "outputs": [],
   "source": [
    "#find total purchase value for female users\n",
    "total_value_female = female_df[\"Price\"].sum()\n",
    "purchasing_analysis_gender.loc[\"Female\"][\"Total Purchase Value\"] = total_value_female"
   ]
  },
  {
   "cell_type": "code",
   "execution_count": 31,
   "metadata": {
    "collapsed": true
   },
   "outputs": [],
   "source": [
    "#find total purchase value for male users\n",
    "total_value_other_gender = other_gender_df[\"Price\"].sum()\n",
    "purchasing_analysis_gender.loc[\"Other/Non-Disclosed\"][\"Total Purchase Value\"] = total_value_other_gender"
   ]
  },
  {
   "cell_type": "code",
   "execution_count": 32,
   "metadata": {
    "collapsed": true
   },
   "outputs": [],
   "source": [
    "#find percentage of total purchase value by male users\n",
    "purchasing_analysis_gender.loc[\"Male\"][\"Normalized Totals\"] = total_value_male/num_males"
   ]
  },
  {
   "cell_type": "code",
   "execution_count": 33,
   "metadata": {
    "collapsed": true
   },
   "outputs": [],
   "source": [
    "#find percentage of total purchase value by female users\n",
    "purchasing_analysis_gender.loc[\"Female\"][\"Normalized Totals\"] = total_value_female/num_females"
   ]
  },
  {
   "cell_type": "code",
   "execution_count": 34,
   "metadata": {
    "collapsed": true
   },
   "outputs": [],
   "source": [
    "#find percentage of total purchase value by male users\n",
    "purchasing_analysis_gender.loc[\"Other/Non-Disclosed\"][\"Normalized Totals\"] = total_value_other_gender/num_other_gender"
   ]
  },
  {
   "cell_type": "code",
   "execution_count": 35,
   "metadata": {},
   "outputs": [
    {
     "data": {
      "text/html": [
       "<div>\n",
       "<style>\n",
       "    .dataframe thead tr:only-child th {\n",
       "        text-align: right;\n",
       "    }\n",
       "\n",
       "    .dataframe thead th {\n",
       "        text-align: left;\n",
       "    }\n",
       "\n",
       "    .dataframe tbody tr th {\n",
       "        vertical-align: top;\n",
       "    }\n",
       "</style>\n",
       "<table border=\"1\" class=\"dataframe\">\n",
       "  <thead>\n",
       "    <tr style=\"text-align: right;\">\n",
       "      <th></th>\n",
       "      <th>Purchase Count</th>\n",
       "      <th>Average Purchase Price</th>\n",
       "      <th>Total Purchase Value</th>\n",
       "      <th>Normalized Totals</th>\n",
       "    </tr>\n",
       "  </thead>\n",
       "  <tbody>\n",
       "    <tr>\n",
       "      <th>Male</th>\n",
       "      <td>633</td>\n",
       "      <td>2.95052</td>\n",
       "      <td>1867.68</td>\n",
       "      <td>4.01652</td>\n",
       "    </tr>\n",
       "    <tr>\n",
       "      <th>Female</th>\n",
       "      <td>136</td>\n",
       "      <td>2.81551</td>\n",
       "      <td>382.91</td>\n",
       "      <td>3.8291</td>\n",
       "    </tr>\n",
       "    <tr>\n",
       "      <th>Other/Non-Disclosed</th>\n",
       "      <td>11</td>\n",
       "      <td>3.24909</td>\n",
       "      <td>35.74</td>\n",
       "      <td>4.4675</td>\n",
       "    </tr>\n",
       "  </tbody>\n",
       "</table>\n",
       "</div>"
      ],
      "text/plain": [
       "                    Purchase Count Average Purchase Price  \\\n",
       "Male                           633                2.95052   \n",
       "Female                         136                2.81551   \n",
       "Other/Non-Disclosed             11                3.24909   \n",
       "\n",
       "                    Total Purchase Value Normalized Totals  \n",
       "Male                             1867.68           4.01652  \n",
       "Female                            382.91            3.8291  \n",
       "Other/Non-Disclosed                35.74            4.4675  "
      ]
     },
     "execution_count": 35,
     "metadata": {},
     "output_type": "execute_result"
    }
   ],
   "source": [
    "#display purchasing analysis by gender\n",
    "purchasing_analysis_gender"
   ]
  },
  {
   "cell_type": "markdown",
   "metadata": {},
   "source": [
    "## Age Demographics"
   ]
  },
  {
   "cell_type": "code",
   "execution_count": 36,
   "metadata": {},
   "outputs": [
    {
     "data": {
      "text/plain": [
       "count    780.000000\n",
       "mean      22.729487\n",
       "std        6.930604\n",
       "min        7.000000\n",
       "25%       19.000000\n",
       "50%       22.000000\n",
       "75%       25.000000\n",
       "max       45.000000\n",
       "Name: Age, dtype: float64"
      ]
     },
     "execution_count": 36,
     "metadata": {},
     "output_type": "execute_result"
    }
   ],
   "source": [
    "#find info on age distribution\n",
    "raw_df[\"Age\"].describe()"
   ]
  },
  {
   "cell_type": "code",
   "execution_count": 37,
   "metadata": {
    "collapsed": true
   },
   "outputs": [],
   "source": [
    "#set age bins\n",
    "if raw_df[\"Age\"].max() == 40:\n",
    "    bins = [0, 10, 15, 20, 25,30,35,40]\n",
    "    bin_index = [\"<11\",\"11-15\",\"16-20\",\"21-25\",\"26-30\",\"31-35\",\"36-40\"]\n",
    "else:\n",
    "    bins = [0, 10, 15, 20, 25,30,35,40,raw_df[\"Age\"].max()]\n",
    "    bin_index = [\"<11\",\"11-15\",\"16-20\",\"21-25\",\"26-30\",\"31-35\",\"36-40\",\"41+\"]"
   ]
  },
  {
   "cell_type": "code",
   "execution_count": 38,
   "metadata": {
    "collapsed": true
   },
   "outputs": [],
   "source": [
    "#bin by age\n",
    "df_age_bins = pd.cut(raw_df[\"Age\"],bins)"
   ]
  },
  {
   "cell_type": "code",
   "execution_count": 39,
   "metadata": {
    "collapsed": true
   },
   "outputs": [],
   "source": [
    "#add age bin column to data frame\n",
    "age_df = raw_df\n",
    "age_df[\"Age Bin\"] = df_age_bins"
   ]
  },
  {
   "cell_type": "code",
   "execution_count": 40,
   "metadata": {
    "collapsed": true
   },
   "outputs": [],
   "source": [
    "#group by age bin\n",
    "groupby_age = age_df.groupby(by=\"Age Bin\")"
   ]
  },
  {
   "cell_type": "code",
   "execution_count": 41,
   "metadata": {},
   "outputs": [
    {
     "data": {
      "text/html": [
       "<div>\n",
       "<style>\n",
       "    .dataframe thead tr:only-child th {\n",
       "        text-align: right;\n",
       "    }\n",
       "\n",
       "    .dataframe thead th {\n",
       "        text-align: left;\n",
       "    }\n",
       "\n",
       "    .dataframe tbody tr th {\n",
       "        vertical-align: top;\n",
       "    }\n",
       "</style>\n",
       "<table border=\"1\" class=\"dataframe\">\n",
       "  <thead>\n",
       "    <tr style=\"text-align: right;\">\n",
       "      <th></th>\n",
       "      <th>Percentage of Players</th>\n",
       "      <th>Total Count</th>\n",
       "    </tr>\n",
       "  </thead>\n",
       "  <tbody>\n",
       "    <tr>\n",
       "      <th>&lt;11</th>\n",
       "      <td>3.839442</td>\n",
       "      <td>22</td>\n",
       "    </tr>\n",
       "    <tr>\n",
       "      <th>11-15</th>\n",
       "      <td>9.424084</td>\n",
       "      <td>54</td>\n",
       "    </tr>\n",
       "    <tr>\n",
       "      <th>16-20</th>\n",
       "      <td>24.258290</td>\n",
       "      <td>139</td>\n",
       "    </tr>\n",
       "    <tr>\n",
       "      <th>21-25</th>\n",
       "      <td>40.837696</td>\n",
       "      <td>234</td>\n",
       "    </tr>\n",
       "    <tr>\n",
       "      <th>26-30</th>\n",
       "      <td>9.075044</td>\n",
       "      <td>52</td>\n",
       "    </tr>\n",
       "    <tr>\n",
       "      <th>31-35</th>\n",
       "      <td>7.678883</td>\n",
       "      <td>44</td>\n",
       "    </tr>\n",
       "    <tr>\n",
       "      <th>36-40</th>\n",
       "      <td>4.363002</td>\n",
       "      <td>25</td>\n",
       "    </tr>\n",
       "    <tr>\n",
       "      <th>41+</th>\n",
       "      <td>0.523560</td>\n",
       "      <td>3</td>\n",
       "    </tr>\n",
       "  </tbody>\n",
       "</table>\n",
       "</div>"
      ],
      "text/plain": [
       "       Percentage of Players  Total Count\n",
       "<11                 3.839442           22\n",
       "11-15               9.424084           54\n",
       "16-20              24.258290          139\n",
       "21-25              40.837696          234\n",
       "26-30               9.075044           52\n",
       "31-35               7.678883           44\n",
       "36-40               4.363002           25\n",
       "41+                 0.523560            3"
      ]
     },
     "execution_count": 41,
     "metadata": {},
     "output_type": "execute_result"
    }
   ],
   "source": [
    "num_users_age_bin = []\n",
    "age_demo_columns = [\"Percentage of Players\",\"Total Count\"]\n",
    "age_demographics = pd.DataFrame(columns = age_demo_columns,index=bin_index)\n",
    "\n",
    "for age_bin,group in groupby_age:\n",
    "    #num_per_age = group[\"SN\"].value_counts()\n",
    "    num_users_age_bin.append(group[\"SN\"].nunique())\n",
    "\n",
    "age_demographics.loc[:,\"Total Count\"] = num_users_age_bin\n",
    "age_demographics[\"Percentage of Players\"] = age_demographics[\"Total Count\"]/num_users*100\n",
    "age_demographics"
   ]
  },
  {
   "cell_type": "code",
   "execution_count": 42,
   "metadata": {
    "collapsed": true
   },
   "outputs": [],
   "source": [
    "#calculate stats for each age group\n",
    "groupby_age_stats = pd.DataFrame({\"Average Price\":groupby_age[\"Price\"].mean()})"
   ]
  },
  {
   "cell_type": "code",
   "execution_count": 43,
   "metadata": {
    "collapsed": true
   },
   "outputs": [],
   "source": [
    "groupby_age_stats[\"Total Purchase Value\"] = groupby_age[\"Price\"].sum()"
   ]
  },
  {
   "cell_type": "code",
   "execution_count": 44,
   "metadata": {},
   "outputs": [],
   "source": [
    "#add number of purchases to sum\n",
    "num_purchases_age = []\n",
    "for age_bin,group in groupby_age:\n",
    "    num_purchases_age.append(len(group.index))\n",
    "    \n",
    "groupby_age_stats[\"Number of Purchases\"] = num_purchases_age"
   ]
  },
  {
   "cell_type": "code",
   "execution_count": 45,
   "metadata": {},
   "outputs": [
    {
     "data": {
      "text/html": [
       "<div>\n",
       "<style>\n",
       "    .dataframe thead tr:only-child th {\n",
       "        text-align: right;\n",
       "    }\n",
       "\n",
       "    .dataframe thead th {\n",
       "        text-align: left;\n",
       "    }\n",
       "\n",
       "    .dataframe tbody tr th {\n",
       "        vertical-align: top;\n",
       "    }\n",
       "</style>\n",
       "<table border=\"1\" class=\"dataframe\">\n",
       "  <thead>\n",
       "    <tr style=\"text-align: right;\">\n",
       "      <th></th>\n",
       "      <th>Average Price</th>\n",
       "      <th>Total Purchase Value</th>\n",
       "      <th>Number of Purchases</th>\n",
       "      <th>Normalized Totals</th>\n",
       "    </tr>\n",
       "    <tr>\n",
       "      <th>Age Bin</th>\n",
       "      <th></th>\n",
       "      <th></th>\n",
       "      <th></th>\n",
       "      <th></th>\n",
       "    </tr>\n",
       "  </thead>\n",
       "  <tbody>\n",
       "    <tr>\n",
       "      <th>(0, 10]</th>\n",
       "      <td>3.019375</td>\n",
       "      <td>96.62</td>\n",
       "      <td>32</td>\n",
       "      <td>4.391818</td>\n",
       "    </tr>\n",
       "    <tr>\n",
       "      <th>(10, 15]</th>\n",
       "      <td>2.873718</td>\n",
       "      <td>224.15</td>\n",
       "      <td>78</td>\n",
       "      <td>4.150926</td>\n",
       "    </tr>\n",
       "    <tr>\n",
       "      <th>(15, 20]</th>\n",
       "      <td>2.873587</td>\n",
       "      <td>528.74</td>\n",
       "      <td>184</td>\n",
       "      <td>3.803885</td>\n",
       "    </tr>\n",
       "    <tr>\n",
       "      <th>(20, 25]</th>\n",
       "      <td>2.959377</td>\n",
       "      <td>902.61</td>\n",
       "      <td>305</td>\n",
       "      <td>3.857308</td>\n",
       "    </tr>\n",
       "    <tr>\n",
       "      <th>(25, 30]</th>\n",
       "      <td>2.892368</td>\n",
       "      <td>219.82</td>\n",
       "      <td>76</td>\n",
       "      <td>4.227308</td>\n",
       "    </tr>\n",
       "    <tr>\n",
       "      <th>(30, 35]</th>\n",
       "      <td>3.073448</td>\n",
       "      <td>178.26</td>\n",
       "      <td>58</td>\n",
       "      <td>4.051364</td>\n",
       "    </tr>\n",
       "    <tr>\n",
       "      <th>(35, 40]</th>\n",
       "      <td>2.897500</td>\n",
       "      <td>127.49</td>\n",
       "      <td>44</td>\n",
       "      <td>5.099600</td>\n",
       "    </tr>\n",
       "    <tr>\n",
       "      <th>(40, 45]</th>\n",
       "      <td>2.880000</td>\n",
       "      <td>8.64</td>\n",
       "      <td>3</td>\n",
       "      <td>2.880000</td>\n",
       "    </tr>\n",
       "  </tbody>\n",
       "</table>\n",
       "</div>"
      ],
      "text/plain": [
       "          Average Price  Total Purchase Value  Number of Purchases  \\\n",
       "Age Bin                                                              \n",
       "(0, 10]        3.019375                 96.62                   32   \n",
       "(10, 15]       2.873718                224.15                   78   \n",
       "(15, 20]       2.873587                528.74                  184   \n",
       "(20, 25]       2.959377                902.61                  305   \n",
       "(25, 30]       2.892368                219.82                   76   \n",
       "(30, 35]       3.073448                178.26                   58   \n",
       "(35, 40]       2.897500                127.49                   44   \n",
       "(40, 45]       2.880000                  8.64                    3   \n",
       "\n",
       "          Normalized Totals  \n",
       "Age Bin                      \n",
       "(0, 10]            4.391818  \n",
       "(10, 15]           4.150926  \n",
       "(15, 20]           3.803885  \n",
       "(20, 25]           3.857308  \n",
       "(25, 30]           4.227308  \n",
       "(30, 35]           4.051364  \n",
       "(35, 40]           5.099600  \n",
       "(40, 45]           2.880000  "
      ]
     },
     "execution_count": 45,
     "metadata": {},
     "output_type": "execute_result"
    }
   ],
   "source": [
    "#normalized totals\n",
    "purchase_value_list = groupby_age_stats[\"Total Purchase Value\"].values\n",
    "total_count_list = age_demographics[\"Total Count\"].values\n",
    "groupby_age_stats[\"Normalized Totals\"] = purchase_value_list/total_count_list\n",
    "groupby_age_stats"
   ]
  },
  {
   "cell_type": "markdown",
   "metadata": {},
   "source": [
    "## Top Spenders"
   ]
  },
  {
   "cell_type": "code",
   "execution_count": 46,
   "metadata": {
    "collapsed": true
   },
   "outputs": [],
   "source": [
    "#groupby user\n",
    "groupby_user = raw_df.groupby(by=\"SN\")   "
   ]
  },
  {
   "cell_type": "code",
   "execution_count": 47,
   "metadata": {},
   "outputs": [
    {
     "data": {
      "text/html": [
       "<div>\n",
       "<style>\n",
       "    .dataframe thead tr:only-child th {\n",
       "        text-align: right;\n",
       "    }\n",
       "\n",
       "    .dataframe thead th {\n",
       "        text-align: left;\n",
       "    }\n",
       "\n",
       "    .dataframe tbody tr th {\n",
       "        vertical-align: top;\n",
       "    }\n",
       "</style>\n",
       "<table border=\"1\" class=\"dataframe\">\n",
       "  <thead>\n",
       "    <tr style=\"text-align: right;\">\n",
       "      <th></th>\n",
       "      <th>User</th>\n",
       "      <th>Total Purchase Value</th>\n",
       "      <th>Average Purchase Price</th>\n",
       "      <th>Number of Purchases</th>\n",
       "    </tr>\n",
       "  </thead>\n",
       "  <tbody>\n",
       "  </tbody>\n",
       "</table>\n",
       "</div>"
      ],
      "text/plain": [
       "Empty DataFrame\n",
       "Columns: [User, Total Purchase Value, Average Purchase Price, Number of Purchases]\n",
       "Index: []"
      ]
     },
     "execution_count": 47,
     "metadata": {},
     "output_type": "execute_result"
    }
   ],
   "source": [
    "#create data frame to store summary statistics for user\n",
    "user_columns = [[\"User\", \"Total Purchase Value\",\"Average Purchase Price\",\"Number of Purchases\"]]\n",
    "user_stats = pd.DataFrame(columns=user_columns)\n",
    "user_stats"
   ]
  },
  {
   "cell_type": "code",
   "execution_count": 48,
   "metadata": {},
   "outputs": [],
   "source": [
    "#calculate user statistics\n",
    "for user,group in groupby_user:\n",
    "    sum_price_user = group[\"Price\"].sum()\n",
    "    average_price_user = group[\"Price\"].mean()\n",
    "    purchase_count_user = len(group.index)\n",
    "    ##############################################################\n",
    "    #how to save stats\n",
    "    group_stats = {\"User\":user,\"Total Purchase Value\":sum_price_user,\"Average Purchase Price\":average_price_user,\"Number of Purchases\":purchase_count_user}\n",
    "    user_stats = user_stats.append(group_stats,ignore_index=True)"
   ]
  },
  {
   "cell_type": "code",
   "execution_count": 49,
   "metadata": {},
   "outputs": [
    {
     "data": {
      "text/html": [
       "<div>\n",
       "<style>\n",
       "    .dataframe thead tr:only-child th {\n",
       "        text-align: right;\n",
       "    }\n",
       "\n",
       "    .dataframe thead th {\n",
       "        text-align: left;\n",
       "    }\n",
       "\n",
       "    .dataframe tbody tr th {\n",
       "        vertical-align: top;\n",
       "    }\n",
       "</style>\n",
       "<table border=\"1\" class=\"dataframe\">\n",
       "  <thead>\n",
       "    <tr style=\"text-align: right;\">\n",
       "      <th></th>\n",
       "      <th>User</th>\n",
       "      <th>Total Purchase Value</th>\n",
       "      <th>Average Purchase Price</th>\n",
       "      <th>Number of Purchases</th>\n",
       "    </tr>\n",
       "  </thead>\n",
       "  <tbody>\n",
       "    <tr>\n",
       "      <th>538</th>\n",
       "      <td>Undirrala66</td>\n",
       "      <td>17.06</td>\n",
       "      <td>3.412000</td>\n",
       "      <td>5</td>\n",
       "    </tr>\n",
       "    <tr>\n",
       "      <th>428</th>\n",
       "      <td>Saedue76</td>\n",
       "      <td>13.56</td>\n",
       "      <td>3.390000</td>\n",
       "      <td>4</td>\n",
       "    </tr>\n",
       "    <tr>\n",
       "      <th>354</th>\n",
       "      <td>Mindimnya67</td>\n",
       "      <td>12.74</td>\n",
       "      <td>3.185000</td>\n",
       "      <td>4</td>\n",
       "    </tr>\n",
       "    <tr>\n",
       "      <th>181</th>\n",
       "      <td>Haellysu29</td>\n",
       "      <td>12.73</td>\n",
       "      <td>4.243333</td>\n",
       "      <td>3</td>\n",
       "    </tr>\n",
       "    <tr>\n",
       "      <th>120</th>\n",
       "      <td>Eoda93</td>\n",
       "      <td>11.58</td>\n",
       "      <td>3.860000</td>\n",
       "      <td>3</td>\n",
       "    </tr>\n",
       "  </tbody>\n",
       "</table>\n",
       "</div>"
      ],
      "text/plain": [
       "            User  Total Purchase Value  Average Purchase Price  \\\n",
       "538  Undirrala66                 17.06                3.412000   \n",
       "428     Saedue76                 13.56                3.390000   \n",
       "354  Mindimnya67                 12.74                3.185000   \n",
       "181   Haellysu29                 12.73                4.243333   \n",
       "120       Eoda93                 11.58                3.860000   \n",
       "\n",
       "    Number of Purchases  \n",
       "538                   5  \n",
       "428                   4  \n",
       "354                   4  \n",
       "181                   3  \n",
       "120                   3  "
      ]
     },
     "execution_count": 49,
     "metadata": {},
     "output_type": "execute_result"
    }
   ],
   "source": [
    "#sort users by total purchase value and display top 5 users\n",
    "sortby_purchase_value_df = user_stats.sort_values(by='Total Purchase Value',ascending=False)\n",
    "top_5_purchase_value = sortby_purchase_value_df.iloc[0:5,:]\n",
    "top_5_purchase_value"
   ]
  },
  {
   "cell_type": "markdown",
   "metadata": {},
   "source": [
    "## Most Popular Items"
   ]
  },
  {
   "cell_type": "code",
   "execution_count": 50,
   "metadata": {
    "collapsed": true
   },
   "outputs": [],
   "source": [
    "#group by item\n",
    "groupby_item = raw_df.groupby(by=\"Item ID\")"
   ]
  },
  {
   "cell_type": "code",
   "execution_count": 51,
   "metadata": {
    "collapsed": true
   },
   "outputs": [],
   "source": [
    "#set up dataframe to store summary stats for each item\n",
    "item_columns = [[\"Item ID\",\"Item Name\",\"Purchase Count\",\"Item Price\",\"Total Purchase Value\"]]\n",
    "item_stats = pd.DataFrame(columns=item_columns)"
   ]
  },
  {
   "cell_type": "code",
   "execution_count": 52,
   "metadata": {
    "collapsed": true
   },
   "outputs": [],
   "source": [
    "#calculate summary stats for each item\n",
    "for item,group in groupby_item:\n",
    "    #find number of purchases of item\n",
    "    num_purchases = len(group.index)\n",
    "\n",
    "    #find total purchase value for item\n",
    "    total_purchase_value = group[\"Price\"].sum()\n",
    "\n",
    "    #find item name\n",
    "    name = group[\"SN\"]\n",
    "    name = name.iloc[0]\n",
    "\n",
    "    #grab first value in specified column (all values should be the same for these columns)\n",
    "    item_id = group[\"Item ID\"]\n",
    "    item_id = item_id.iloc[0]\n",
    "    \n",
    "    price = group[\"Price\"]\n",
    "    price = price.iloc[0]\n",
    "    \n",
    "    #create summary dataframe for this item and append it to dataframe for all items\n",
    "    group_stats = {\"Item ID\":item_id,\"Item Name\":name,\"Purchase Count\":num_purchases,\"Item Price\":price,\"Total Purchase Value\":total_purchase_value}\n",
    "    item_stats = item_stats.append(group_stats,ignore_index = True)"
   ]
  },
  {
   "cell_type": "code",
   "execution_count": 53,
   "metadata": {},
   "outputs": [
    {
     "data": {
      "text/html": [
       "<div>\n",
       "<style>\n",
       "    .dataframe thead tr:only-child th {\n",
       "        text-align: right;\n",
       "    }\n",
       "\n",
       "    .dataframe thead th {\n",
       "        text-align: left;\n",
       "    }\n",
       "\n",
       "    .dataframe tbody tr th {\n",
       "        vertical-align: top;\n",
       "    }\n",
       "</style>\n",
       "<table border=\"1\" class=\"dataframe\">\n",
       "  <thead>\n",
       "    <tr style=\"text-align: right;\">\n",
       "      <th></th>\n",
       "      <th>Item ID</th>\n",
       "      <th>Item Name</th>\n",
       "      <th>Purchase Count</th>\n",
       "      <th>Item Price</th>\n",
       "      <th>Total Purchase Value</th>\n",
       "    </tr>\n",
       "  </thead>\n",
       "  <tbody>\n",
       "    <tr>\n",
       "      <th>39</th>\n",
       "      <td>39</td>\n",
       "      <td>Rinallorap73</td>\n",
       "      <td>11</td>\n",
       "      <td>2.35</td>\n",
       "      <td>25.85</td>\n",
       "    </tr>\n",
       "    <tr>\n",
       "      <th>84</th>\n",
       "      <td>84</td>\n",
       "      <td>Koikirra25</td>\n",
       "      <td>11</td>\n",
       "      <td>2.23</td>\n",
       "      <td>24.53</td>\n",
       "    </tr>\n",
       "    <tr>\n",
       "      <th>31</th>\n",
       "      <td>31</td>\n",
       "      <td>Marilsasya33</td>\n",
       "      <td>9</td>\n",
       "      <td>2.07</td>\n",
       "      <td>18.63</td>\n",
       "    </tr>\n",
       "    <tr>\n",
       "      <th>174</th>\n",
       "      <td>175</td>\n",
       "      <td>Yaristi64</td>\n",
       "      <td>9</td>\n",
       "      <td>1.24</td>\n",
       "      <td>11.16</td>\n",
       "    </tr>\n",
       "    <tr>\n",
       "      <th>13</th>\n",
       "      <td>13</td>\n",
       "      <td>Aisur51</td>\n",
       "      <td>9</td>\n",
       "      <td>1.49</td>\n",
       "      <td>13.41</td>\n",
       "    </tr>\n",
       "  </tbody>\n",
       "</table>\n",
       "</div>"
      ],
      "text/plain": [
       "    Item ID     Item Name Purchase Count  Item Price  Total Purchase Value\n",
       "39       39  Rinallorap73             11        2.35                 25.85\n",
       "84       84    Koikirra25             11        2.23                 24.53\n",
       "31       31  Marilsasya33              9        2.07                 18.63\n",
       "174     175     Yaristi64              9        1.24                 11.16\n",
       "13       13       Aisur51              9        1.49                 13.41"
      ]
     },
     "execution_count": 53,
     "metadata": {},
     "output_type": "execute_result"
    }
   ],
   "source": [
    "#sort by num purchases and display data for top 5\n",
    "sortby_num_purchases_df = item_stats.sort_values(by='Purchase Count',ascending=False)\n",
    "top_5_num_purchases = sortby_num_purchases_df.iloc[0:5,:]\n",
    "top_5_num_purchases"
   ]
  },
  {
   "cell_type": "markdown",
   "metadata": {},
   "source": [
    "## Most Profitable Items"
   ]
  },
  {
   "cell_type": "code",
   "execution_count": 54,
   "metadata": {},
   "outputs": [
    {
     "data": {
      "text/html": [
       "<div>\n",
       "<style>\n",
       "    .dataframe thead tr:only-child th {\n",
       "        text-align: right;\n",
       "    }\n",
       "\n",
       "    .dataframe thead th {\n",
       "        text-align: left;\n",
       "    }\n",
       "\n",
       "    .dataframe tbody tr th {\n",
       "        vertical-align: top;\n",
       "    }\n",
       "</style>\n",
       "<table border=\"1\" class=\"dataframe\">\n",
       "  <thead>\n",
       "    <tr style=\"text-align: right;\">\n",
       "      <th></th>\n",
       "      <th>Item ID</th>\n",
       "      <th>Item Name</th>\n",
       "      <th>Purchase Count</th>\n",
       "      <th>Item Price</th>\n",
       "      <th>Total Purchase Value</th>\n",
       "    </tr>\n",
       "  </thead>\n",
       "  <tbody>\n",
       "    <tr>\n",
       "      <th>34</th>\n",
       "      <td>34</td>\n",
       "      <td>Alallo58</td>\n",
       "      <td>9</td>\n",
       "      <td>4.14</td>\n",
       "      <td>37.26</td>\n",
       "    </tr>\n",
       "    <tr>\n",
       "      <th>115</th>\n",
       "      <td>115</td>\n",
       "      <td>Undirrala66</td>\n",
       "      <td>7</td>\n",
       "      <td>4.25</td>\n",
       "      <td>29.75</td>\n",
       "    </tr>\n",
       "    <tr>\n",
       "      <th>32</th>\n",
       "      <td>32</td>\n",
       "      <td>Saistyphos30</td>\n",
       "      <td>6</td>\n",
       "      <td>4.95</td>\n",
       "      <td>29.70</td>\n",
       "    </tr>\n",
       "    <tr>\n",
       "      <th>103</th>\n",
       "      <td>103</td>\n",
       "      <td>Farenon57</td>\n",
       "      <td>6</td>\n",
       "      <td>4.87</td>\n",
       "      <td>29.22</td>\n",
       "    </tr>\n",
       "    <tr>\n",
       "      <th>107</th>\n",
       "      <td>107</td>\n",
       "      <td>Frichossast75</td>\n",
       "      <td>8</td>\n",
       "      <td>3.61</td>\n",
       "      <td>28.88</td>\n",
       "    </tr>\n",
       "  </tbody>\n",
       "</table>\n",
       "</div>"
      ],
      "text/plain": [
       "    Item ID      Item Name Purchase Count  Item Price  Total Purchase Value\n",
       "34       34       Alallo58              9        4.14                 37.26\n",
       "115     115    Undirrala66              7        4.25                 29.75\n",
       "32       32   Saistyphos30              6        4.95                 29.70\n",
       "103     103      Farenon57              6        4.87                 29.22\n",
       "107     107  Frichossast75              8        3.61                 28.88"
      ]
     },
     "execution_count": 54,
     "metadata": {},
     "output_type": "execute_result"
    }
   ],
   "source": [
    "#sort by total purchase value and display data for top 5\n",
    "sortby_purchase_value_df = item_stats.sort_values(by='Total Purchase Value',ascending=False)\n",
    "top_5_purchase_value = sortby_purchase_value_df.iloc[0:5,:]\n",
    "top_5_purchase_value"
   ]
  },
  {
   "cell_type": "code",
   "execution_count": null,
   "metadata": {
    "collapsed": true
   },
   "outputs": [],
   "source": []
  }
 ],
 "metadata": {
  "kernelspec": {
   "display_name": "Python 3",
   "language": "python",
   "name": "python3"
  },
  "language_info": {
   "codemirror_mode": {
    "name": "ipython",
    "version": 3
   },
   "file_extension": ".py",
   "mimetype": "text/x-python",
   "name": "python",
   "nbconvert_exporter": "python",
   "pygments_lexer": "ipython3",
   "version": "3.6.2"
  }
 },
 "nbformat": 4,
 "nbformat_minor": 2
}
